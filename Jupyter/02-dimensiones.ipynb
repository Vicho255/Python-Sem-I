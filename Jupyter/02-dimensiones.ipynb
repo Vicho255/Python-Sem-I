{
 "cells": [
  {
   "cell_type": "code",
   "execution_count": 1,
   "metadata": {},
   "outputs": [],
   "source": [
    "import numpy as np"
   ]
  },
  {
   "cell_type": "code",
   "execution_count": 22,
   "metadata": {},
   "outputs": [
    {
     "data": {
      "text/plain": [
       "array([ 3,  6,  3,  4,  4,  5,  1, 10,  7,  2, 10,  6])"
      ]
     },
     "execution_count": 22,
     "metadata": {},
     "output_type": "execute_result"
    }
   ],
   "source": [
    "#### GENERANDO UN ARRAY DE 12 ELEMENTOS ENTEROS CON RANDOM ###\n",
    "arreglo = np.random.randint(1,11,12) # 12 elementos entre el 0 y el 100\n",
    "arreglo"
   ]
  },
  {
   "cell_type": "code",
   "execution_count": 23,
   "metadata": {},
   "outputs": [
    {
     "data": {
      "text/plain": [
       "(12,)"
      ]
     },
     "execution_count": 23,
     "metadata": {},
     "output_type": "execute_result"
    }
   ],
   "source": [
    "#### OBTENER LA DIMENSION DE UN ARREGLO ####\n",
    "np.shape(arreglo)"
   ]
  },
  {
   "cell_type": "code",
   "execution_count": 24,
   "metadata": {},
   "outputs": [
    {
     "data": {
      "text/plain": [
       "array([[ 3,  6,  3,  4],\n",
       "       [ 4,  5,  1, 10],\n",
       "       [ 7,  2, 10,  6]])"
      ]
     },
     "execution_count": 24,
     "metadata": {},
     "output_type": "execute_result"
    }
   ],
   "source": [
    "#### TRANSFORMACION DEL VECTOR DE 12 ELEMENTOS A MATRIZ DE 4X3 CON RESHAPE ####\n",
    "matriz = arreglo.reshape(3,4)\n",
    "matriz"
   ]
  },
  {
   "cell_type": "code",
   "execution_count": 25,
   "metadata": {},
   "outputs": [
    {
     "data": {
      "text/plain": [
       "[[[[1, 2, 3], [4, 5, 6], [7, 8, 9]]]]"
      ]
     },
     "execution_count": 25,
     "metadata": {},
     "output_type": "execute_result"
    }
   ],
   "source": [
    "t=[[[[1,2,3],[4,5,6],[7,8,9]]]]\n",
    "t"
   ]
  }
 ],
 "metadata": {
  "kernelspec": {
   "display_name": "Python 3",
   "language": "python",
   "name": "python3"
  },
  "language_info": {
   "codemirror_mode": {
    "name": "ipython",
    "version": 3
   },
   "file_extension": ".py",
   "mimetype": "text/x-python",
   "name": "python",
   "nbconvert_exporter": "python",
   "pygments_lexer": "ipython3",
   "version": "3.11.2"
  },
  "orig_nbformat": 4
 },
 "nbformat": 4,
 "nbformat_minor": 2
}
