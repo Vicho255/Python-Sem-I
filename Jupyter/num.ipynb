{
 "cells": [
  {
   "cell_type": "code",
   "execution_count": 3,
   "metadata": {},
   "outputs": [],
   "source": [
    "import numpy as np"
   ]
  },
  {
   "cell_type": "code",
   "execution_count": 4,
   "metadata": {},
   "outputs": [
    {
     "data": {
      "text/plain": [
       "[1, 2, 3, 4, 5, 6, 7, 8, 9, 10]"
      ]
     },
     "execution_count": 4,
     "metadata": {},
     "output_type": "execute_result"
    }
   ],
   "source": [
    "lista=list(range(1,11))\n",
    "lista"
   ]
  },
  {
   "cell_type": "code",
   "execution_count": 5,
   "metadata": {},
   "outputs": [
    {
     "data": {
      "text/plain": [
       "array([ 1,  2,  3,  4,  5,  6,  7,  8,  9, 10])"
      ]
     },
     "execution_count": 5,
     "metadata": {},
     "output_type": "execute_result"
    }
   ],
   "source": [
    "arreglo = np.array(lista)\n",
    "arreglo"
   ]
  },
  {
   "cell_type": "code",
   "execution_count": 6,
   "metadata": {},
   "outputs": [
    {
     "data": {
      "text/plain": [
       "numpy.ndarray"
      ]
     },
     "execution_count": 6,
     "metadata": {},
     "output_type": "execute_result"
    }
   ],
   "source": [
    "type(arreglo)"
   ]
  },
  {
   "cell_type": "code",
   "execution_count": 7,
   "metadata": {},
   "outputs": [
    {
     "data": {
      "text/plain": [
       "dtype('int32')"
      ]
     },
     "execution_count": 7,
     "metadata": {},
     "output_type": "execute_result"
    }
   ],
   "source": [
    "arreglo.dtype"
   ]
  },
  {
   "cell_type": "code",
   "execution_count": 8,
   "metadata": {},
   "outputs": [
    {
     "data": {
      "text/plain": [
       "array([ 1.,  2.,  3.,  4.,  5.,  6.,  7.,  8.,  9., 10.], dtype=float32)"
      ]
     },
     "execution_count": 8,
     "metadata": {},
     "output_type": "execute_result"
    }
   ],
   "source": [
    "np.array(arreglo, dtype=np.float32)"
   ]
  },
  {
   "cell_type": "code",
   "execution_count": 9,
   "metadata": {},
   "outputs": [
    {
     "data": {
      "text/plain": [
       "array([ 1.,  2.,  3.,  4.,  5.,  6.,  7.,  8.,  9., 10.], dtype=float32)"
      ]
     },
     "execution_count": 9,
     "metadata": {},
     "output_type": "execute_result"
    }
   ],
   "source": [
    "arreglo.astype(np.float32)"
   ]
  },
  {
   "attachments": {},
   "cell_type": "markdown",
   "metadata": {},
   "source": [
    "<h3 style=\"color:blue;\"><b>Loco</b></h3>"
   ]
  },
  {
   "cell_type": "code",
   "execution_count": 10,
   "metadata": {},
   "outputs": [
    {
     "data": {
      "text/plain": [
       "array([[0.38394983, 0.83408131, 0.05917996, 0.77920182, 0.90948905,\n",
       "        0.31780474, 0.40584792, 0.28492071, 0.65919752, 0.68321846],\n",
       "       [0.97082402, 0.64167851, 0.80444871, 0.64376303, 0.1236374 ,\n",
       "        0.90703959, 0.19327268, 0.43338977, 0.37775239, 0.48386252],\n",
       "       [0.47540947, 0.49205677, 0.30343962, 0.85938606, 0.42663862,\n",
       "        0.70581726, 0.48325789, 0.55996606, 0.33560395, 0.74314477],\n",
       "       [0.64367421, 0.21908361, 0.33783957, 0.1978934 , 0.74164048,\n",
       "        0.22325225, 0.4628343 , 0.70586186, 0.5250844 , 0.41262724],\n",
       "       [0.48196858, 0.029827  , 0.5982571 , 0.26125191, 0.0685026 ,\n",
       "        0.91457081, 0.39657585, 0.3141454 , 0.25042612, 0.97165182],\n",
       "       [0.55229428, 0.62424545, 0.55589082, 0.99902449, 0.92680797,\n",
       "        0.95791956, 0.16771935, 0.76866867, 0.82740643, 0.34304562],\n",
       "       [0.03944767, 0.14340692, 0.18710923, 0.643354  , 0.74541994,\n",
       "        0.18238409, 0.76312116, 0.17376105, 0.10804775, 0.27721699],\n",
       "       [0.62342587, 0.79838563, 0.90629584, 0.14899197, 0.06784087,\n",
       "        0.62445599, 0.78225056, 0.37909458, 0.00360141, 0.41787338],\n",
       "       [0.75632728, 0.56892979, 0.48700517, 0.98034085, 0.19365626,\n",
       "        0.03067699, 0.03096611, 0.89498189, 0.89112627, 0.53230195],\n",
       "       [0.07970505, 0.29419228, 0.01781438, 0.63732411, 0.1603466 ,\n",
       "        0.47594326, 0.46429035, 0.027917  , 0.46429034, 0.58444344]])"
      ]
     },
     "execution_count": 10,
     "metadata": {},
     "output_type": "execute_result"
    }
   ],
   "source": [
    "matriz= np.random.rand(10,10)\n",
    "matriz"
   ]
  },
  {
   "cell_type": "code",
   "execution_count": 11,
   "metadata": {},
   "outputs": [
    {
     "data": {
      "text/plain": [
       "array([1, 1, 3, 4, 3, 2, 3, 2, 2, 4])"
      ]
     },
     "execution_count": 11,
     "metadata": {},
     "output_type": "execute_result"
    }
   ],
   "source": [
    "random_array=np.random.randint(1,5,10)\n",
    "random_array"
   ]
  },
  {
   "cell_type": "code",
   "execution_count": 13,
   "metadata": {},
   "outputs": [
    {
     "data": {
      "text/plain": [
       "array([[42, 73, 95, 49, 40, 78, 78,  2, 57, 49, 66, 93, 83, 42,  9],\n",
       "       [51, 72, 51, 39, 84, 50, 92,  7,  5, 66, 30, 46, 96,  7, 75],\n",
       "       [98, 50, 19, 59, 83, 26, 36, 41, 27, 45, 13,  8, 90, 71, 75],\n",
       "       [31, 45, 84,  9, 81, 35,  3, 31, 14,  8, 29, 73, 10, 21, 60],\n",
       "       [91, 86, 24, 69, 72, 72, 90, 20, 43, 72, 18, 14, 93, 83, 57],\n",
       "       [95, 83, 31, 66, 17, 36, 34, 24, 24, 10, 83, 67, 51, 87, 39],\n",
       "       [14, 10, 77, 39, 88, 93, 10, 54, 53, 89, 69,  4, 52, 83, 77],\n",
       "       [50, 36, 53, 35, 90, 51, 58, 71, 40, 91, 77, 67, 75, 56, 73],\n",
       "       [ 1, 65, 54, 32, 53, 11, 88, 72, 42, 84, 25, 52, 63, 46, 68],\n",
       "       [48, 54, 49, 38, 75, 82, 77, 61, 30,  2, 13, 99, 86, 77, 84],\n",
       "       [71, 20, 88, 94, 21,  1, 80,  6, 34, 50,  6, 89, 13, 56, 89],\n",
       "       [60, 37, 35, 67, 87, 45, 76, 61, 66, 70,  1, 74, 84, 86, 43],\n",
       "       [24,  1, 25, 88, 88, 91, 97, 30, 97, 48, 31, 29, 84,  1, 42],\n",
       "       [54, 27, 35, 67,  1, 90, 28, 78, 43, 13, 68, 45, 74, 10, 14],\n",
       "       [12, 18, 47, 14, 51, 66, 25, 27, 95, 76, 62, 66, 47, 82, 64]])"
      ]
     },
     "execution_count": 13,
     "metadata": {},
     "output_type": "execute_result"
    }
   ],
   "source": [
    "matriz2=np.random.randint(1,100,(15,15))\n",
    "matriz2"
   ]
  }
 ],
 "metadata": {
  "kernelspec": {
   "display_name": "Python 3",
   "language": "python",
   "name": "python3"
  },
  "language_info": {
   "codemirror_mode": {
    "name": "ipython",
    "version": 3
   },
   "file_extension": ".py",
   "mimetype": "text/x-python",
   "name": "python",
   "nbconvert_exporter": "python",
   "pygments_lexer": "ipython3",
   "version": "3.11.2"
  },
  "orig_nbformat": 4
 },
 "nbformat": 4,
 "nbformat_minor": 2
}
